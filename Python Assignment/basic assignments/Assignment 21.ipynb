{
 "cells": [
  {
   "cell_type": "markdown",
   "metadata": {},
   "source": [
    "1. Add the current date to the text file today.txt as a string."
   ]
  },
  {
   "cell_type": "code",
   "execution_count": 1,
   "metadata": {},
   "outputs": [],
   "source": [
    "import datetime\n",
    "today_date = datetime.date.today()\n",
    "v = today_date.strftime(\"%d %B %Y\")\n",
    "vk = open(\"today.txt\",'w')\n",
    "vk.writelines(v)"
   ]
  },
  {
   "cell_type": "markdown",
   "metadata": {},
   "source": [
    "2. Read the text file today.txt into the string today_string"
   ]
  },
  {
   "cell_type": "code",
   "execution_count": 2,
   "metadata": {},
   "outputs": [
    {
     "data": {
      "text/plain": [
       "'28 June 2021'"
      ]
     },
     "execution_count": 2,
     "metadata": {},
     "output_type": "execute_result"
    }
   ],
   "source": [
    "vk = open(\"today.txt\",'r')\n",
    "today_string  = vk.read()\n",
    "today_string"
   ]
  },
  {
   "cell_type": "markdown",
   "metadata": {},
   "source": [
    "3. Parse the date from today_string."
   ]
  },
  {
   "cell_type": "code",
   "execution_count": 3,
   "metadata": {},
   "outputs": [
    {
     "data": {
      "text/plain": [
       "datetime.datetime(2021, 6, 28, 0, 0)"
      ]
     },
     "execution_count": 3,
     "metadata": {},
     "output_type": "execute_result"
    }
   ],
   "source": [
    "datetime.datetime.strptime(today_string,('%d %B %Y'))"
   ]
  },
  {
   "cell_type": "markdown",
   "metadata": {},
   "source": [
    "4. List the files in your current directory"
   ]
  },
  {
   "cell_type": "code",
   "execution_count": 4,
   "metadata": {},
   "outputs": [
    {
     "data": {
      "text/plain": [
       "['.ipynb_checkpoints',\n",
       " 'Application-form.pdf',\n",
       " 'Assignment 21.ipynb',\n",
       " 'Automate The Boring Stuff With Python.pdf',\n",
       " 'books.csv',\n",
       " 'books.db',\n",
       " 'books.db-journal',\n",
       " 'cats dogs classification.pdf',\n",
       " 'Computer_Networking_A_Top-Down_Approach.pdf',\n",
       " 'desktop.ini',\n",
       " 'dktp',\n",
       " 'duckett.pdf',\n",
       " 'ex.csv',\n",
       " 'html and css',\n",
       " 'htmlcheatsheet.pdf',\n",
       " 'ineron mysql',\n",
       " 'internship report',\n",
       " 'Introducing Python _ Things to Do.pdf',\n",
       " 'Java.pdf',\n",
       " 'MongoDBCompass.lnk',\n",
       " 'New folder',\n",
       " 'pooja kcet docs',\n",
       " 'Postman.lnk',\n",
       " 'practice csv,xml,sql.ipynb',\n",
       " 'Practice.ipynb',\n",
       " 'python programming assignments',\n",
       " 'python_reg_expressions.pdf',\n",
       " 'seminar topics',\n",
       " 'test.html',\n",
       " 'test.txt',\n",
       " 'test1',\n",
       " 'today.txt',\n",
       " 'VTU-Machine-Learning-Lab-Program-Candidate-Elimination-master',\n",
       " 'vv']"
      ]
     },
     "execution_count": 4,
     "metadata": {},
     "output_type": "execute_result"
    }
   ],
   "source": [
    "import os\n",
    "os.listdir()"
   ]
  },
  {
   "cell_type": "markdown",
   "metadata": {},
   "source": [
    "5. Create a list of all of the files in your parent directory (minimum five files should be available)."
   ]
  },
  {
   "cell_type": "code",
   "execution_count": 5,
   "metadata": {},
   "outputs": [
    {
     "data": {
      "text/plain": [
       "['.anaconda',\n",
       " '.astropy',\n",
       " '.cassandra',\n",
       " '.conda',\n",
       " '.condarc',\n",
       " '.config',\n",
       " '.continuum',\n",
       " '.dotnet',\n",
       " '.eclipse',\n",
       " '.idlerc']"
      ]
     },
     "execution_count": 5,
     "metadata": {},
     "output_type": "execute_result"
    }
   ],
   "source": [
    "v=os.listdir(\"..\")\n",
    "v[:10]"
   ]
  },
  {
   "cell_type": "markdown",
   "metadata": {},
   "source": [
    "6. Use multiprocessing to create three separate processes. Make each one wait a random number of seconds between one and five, print the current time, and then exit."
   ]
  },
  {
   "cell_type": "code",
   "execution_count": 6,
   "metadata": {},
   "outputs": [
    {
     "name": "stdout",
     "output_type": "stream",
     "text": [
      "Number of cpu :  8\n"
     ]
    }
   ],
   "source": [
    "import multiprocessing as mp\n",
    "print(\"Number of cpu : \", mp.cpu_count())"
   ]
  },
  {
   "cell_type": "code",
   "execution_count": 20,
   "metadata": {},
   "outputs": [
    {
     "name": "stdout",
     "output_type": "stream",
     "text": [
      "ID of main process: 6992\n",
      "ID of process p1: 12512\n",
      "ID of process p2: 11408\n",
      "ID of process p2: 7676\n",
      "All processes finished execution!\n",
      "Process p1 is alive: False\n",
      "Process p2 is alive: False\n",
      "Process p3 is alive: False\n"
     ]
    }
   ],
   "source": [
    "import multiprocessing\n",
    "import os\n",
    "import time\n",
    "from datetime import datetime\n",
    "import random\n",
    "\n",
    "def print_time():\n",
    "    # printing 9process id\n",
    "    print(\"ID of process running : {}\".format(os.getpid()))\n",
    "    time.sleep(random.randrange(1,6))\n",
    "    print(datetime.now().time())\n",
    "\n",
    "if __name__ == \"__main__\":\n",
    "    # printing main program process id\n",
    "    print(\"ID of main process: {}\".format(os.getpid()))\n",
    "\n",
    "    # creating processes\n",
    "    p1 = multiprocessing.Process(target=print_time)\n",
    "    p2 = multiprocessing.Process(target=print_time)\n",
    "    p3 = multiprocessing.Process(target=print_time)\n",
    "\n",
    "    # starting processes\n",
    "    p1.start()\n",
    "    p2.start()\n",
    "    p3.start()\n",
    "\n",
    "    # process IDs\n",
    "    print(\"ID of process p1: {}\".format(p1.pid))\n",
    "    print(\"ID of process p2: {}\".format(p2.pid))\n",
    "    print(\"ID of process p2: {}\".format(p3.pid))\n",
    "\n",
    "    # wait until processes are finished\n",
    "    p1.join()\n",
    "    p2.join()\n",
    "    p3.join()\n",
    "\n",
    "    # both processes finished\n",
    "    print(\"All processes finished execution!\")\n",
    "\n",
    "    # check if processes are alive\n",
    "    print(\"Process p1 is alive: {}\".format(p1.is_alive()))\n",
    "    print(\"Process p2 is alive: {}\".format(p2.is_alive()))\n",
    "    print(\"Process p3 is alive: {}\".format(p3.is_alive()))"
   ]
  },
  {
   "cell_type": "markdown",
   "metadata": {},
   "source": [
    "7. Create a date object of your day of birth."
   ]
  },
  {
   "cell_type": "code",
   "execution_count": 9,
   "metadata": {},
   "outputs": [
    {
     "name": "stdout",
     "output_type": "stream",
     "text": [
      "08 10 1998\n"
     ]
    }
   ],
   "source": [
    "x = datetime(1998, 10, 8)\n",
    "\n",
    "print(x.strftime(\"%d %m %Y\"))"
   ]
  },
  {
   "cell_type": "markdown",
   "metadata": {},
   "source": [
    "8. What day of the week was your day of birth?"
   ]
  },
  {
   "cell_type": "code",
   "execution_count": 11,
   "metadata": {},
   "outputs": [
    {
     "data": {
      "text/plain": [
       "'Thursday'"
      ]
     },
     "execution_count": 11,
     "metadata": {},
     "output_type": "execute_result"
    }
   ],
   "source": [
    "import calendar\n",
    "calendar.day_name[x.weekday()]"
   ]
  },
  {
   "cell_type": "markdown",
   "metadata": {},
   "source": [
    "9. When will you be (or when were you) 10,000 days old?"
   ]
  },
  {
   "cell_type": "code",
   "execution_count": 12,
   "metadata": {},
   "outputs": [
    {
     "name": "stdout",
     "output_type": "stream",
     "text": [
      "2026-02-23\n"
     ]
    }
   ],
   "source": [
    "from datetime import timedelta\n",
    "new_date = x + timedelta(10000)\n",
    "print (new_date.date())"
   ]
  }
 ],
 "metadata": {
  "kernelspec": {
   "display_name": "Python 3",
   "language": "python",
   "name": "python3"
  },
  "language_info": {
   "codemirror_mode": {
    "name": "ipython",
    "version": 3
   },
   "file_extension": ".py",
   "mimetype": "text/x-python",
   "name": "python",
   "nbconvert_exporter": "python",
   "pygments_lexer": "ipython3",
   "version": "3.7.4"
  }
 },
 "nbformat": 4,
 "nbformat_minor": 2
}
