{
 "cells": [
  {
   "cell_type": "markdown",
   "metadata": {},
   "source": [
    "Write a Python Program to find sum of array?"
   ]
  },
  {
   "cell_type": "code",
   "execution_count": 5,
   "metadata": {},
   "outputs": [
    {
     "name": "stdout",
     "output_type": "stream",
     "text": [
      "enter size of array:4\n",
      "enter number 0 1\n",
      "enter number 1 2\n",
      "enter number 2 3\n",
      "enter number 3 4\n",
      "10\n"
     ]
    }
   ],
   "source": [
    "size = int(input(\"enter size of array:\"))\n",
    "arr = []\n",
    "for i in range(size):\n",
    "    a = int(input(\"enter number %i \"%i))\n",
    "    arr.append(a)\n",
    "def sum_of_array(v):\n",
    "    res = 0\n",
    "    for i in range(len(v)):\n",
    "        res += v[i]\n",
    "    return res\n",
    "print(sum_of_array(arr))"
   ]
  },
  {
   "cell_type": "markdown",
   "metadata": {},
   "source": [
    "Write a Python Program to find largest element in an array?"
   ]
  },
  {
   "cell_type": "code",
   "execution_count": 1,
   "metadata": {},
   "outputs": [
    {
     "name": "stdout",
     "output_type": "stream",
     "text": [
      "enter size of array:4\n",
      "enter number 0 22\n",
      "enter number 1 32\n",
      "enter number 2 10\n",
      "enter number 3 4\n",
      "32\n"
     ]
    }
   ],
   "source": [
    "size = int(input(\"enter size of array:\"))\n",
    "arr = []\n",
    "for i in range(size):\n",
    "    a = int(input(\"enter number %i \"%i))\n",
    "    arr.append(a)\n",
    "def largest(ar):\n",
    "    lrg = 0\n",
    "    for i in range(len(ar)):\n",
    "        if(ar[i]> lrg):\n",
    "            lrg=ar[i]\n",
    "        else:\n",
    "            continue\n",
    "    return lrg\n",
    "print(largest(arr))"
   ]
  },
  {
   "cell_type": "markdown",
   "metadata": {},
   "source": [
    "Write a Python Program for array rotation?"
   ]
  },
  {
   "cell_type": "code",
   "execution_count": 2,
   "metadata": {},
   "outputs": [
    {
     "name": "stdout",
     "output_type": "stream",
     "text": [
      "enter size of array:5\n",
      "enter number 0 1\n",
      "enter number 1 2\n",
      "enter number 2 4\n",
      "enter number 3 5\n",
      "enter number 4 6\n",
      "orignal array: [1, 2, 4, 5, 6]\n",
      "rotated array: [6, 5, 4, 2, 1]\n"
     ]
    }
   ],
   "source": [
    "size = int(input(\"enter size of array:\"))\n",
    "arr = []\n",
    "for i in range(size):\n",
    "    a = int(input(\"enter number %i \"%i))\n",
    "    arr.append(a)\n",
    "def rotate(ar):\n",
    "    v = len(ar)\n",
    "    for i in range(v//2):\n",
    "        ar[i],ar[v-1-i]= ar[v-1-i],ar[i]\n",
    "    return ar\n",
    "print(\"orignal array:\",arr)\n",
    "print(\"rotated array:\",rotate(arr))\n"
   ]
  },
  {
   "cell_type": "markdown",
   "metadata": {},
   "source": [
    "Write a Python Program to Split the array and add the first part to the end?"
   ]
  },
  {
   "cell_type": "code",
   "execution_count": 3,
   "metadata": {},
   "outputs": [
    {
     "name": "stdout",
     "output_type": "stream",
     "text": [
      "array before splitting [1, 2, 4, 5, 3]\n",
      "array after splitting [5, 3, 1, 2, 4]\n"
     ]
    }
   ],
   "source": [
    "v = [1,2,4,5,3]\n",
    "print(\"array before splitting\",v)\n",
    "v = v[3:]+v[:3]\n",
    "print(\"array after splitting\",v)"
   ]
  },
  {
   "cell_type": "markdown",
   "metadata": {},
   "source": [
    "Write a Python Program to check if given array is Monotonic?"
   ]
  },
  {
   "cell_type": "code",
   "execution_count": 4,
   "metadata": {},
   "outputs": [
    {
     "name": "stdout",
     "output_type": "stream",
     "text": [
      "yes array is monotonous\n"
     ]
    }
   ],
   "source": [
    "array = [1,2,3,4,5]\n",
    "def is_asc(arr):\n",
    "    for i in range(len(arr)-1):\n",
    "        if(arr[i]<=arr[i+1]):\n",
    "            pass\n",
    "        else:\n",
    "            return False\n",
    "    return True\n",
    "def is_desc(arr):\n",
    "    for i in range(len(arr)-1):\n",
    "        if(arr[i]>=arr[i+1]):\n",
    "            pass\n",
    "        else:\n",
    "            return False\n",
    "    return True\n",
    "def is_Monotonous(ar):\n",
    "    if (is_asc(ar) or is_desc(ar)):\n",
    "        print(\"yes array is monotonous\")\n",
    "    else:\n",
    "        print(\"non monotonous\")\n",
    "is_Monotonous(array)    "
   ]
  }
 ],
 "metadata": {
  "kernelspec": {
   "display_name": "Python 3",
   "language": "python",
   "name": "python3"
  },
  "language_info": {
   "codemirror_mode": {
    "name": "ipython",
    "version": 3
   },
   "file_extension": ".py",
   "mimetype": "text/x-python",
   "name": "python",
   "nbconvert_exporter": "python",
   "pygments_lexer": "ipython3",
   "version": "3.7.4"
  }
 },
 "nbformat": 4,
 "nbformat_minor": 2
}
