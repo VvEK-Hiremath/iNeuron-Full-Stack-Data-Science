{
 "cells": [
  {
   "cell_type": "markdown",
   "metadata": {},
   "source": [
    "1.\tWrite a Python Program to Find LCM"
   ]
  },
  {
   "cell_type": "code",
   "execution_count": 1,
   "metadata": {},
   "outputs": [
    {
     "name": "stdout",
     "output_type": "stream",
     "text": [
      "enter first number: 16\n",
      "enter second number: 24\n",
      "lcm is: 48\n"
     ]
    }
   ],
   "source": [
    "a= int(input(\"enter first number: \"))\n",
    "b= int(input(\"enter second number: \"))\n",
    "\n",
    "if(a>b):\n",
    "    greater = a\n",
    "else:\n",
    "    greater = b\n",
    "    \n",
    "while(True):\n",
    "    if(greater%a==0 and greater%b==0):\n",
    "        print(\"lcm is:\",greater)\n",
    "        break\n",
    "    greater = greater +1"
   ]
  },
  {
   "cell_type": "markdown",
   "metadata": {},
   "source": [
    "2.\tWrite a Python Program to Find HCF"
   ]
  },
  {
   "cell_type": "code",
   "execution_count": 5,
   "metadata": {},
   "outputs": [
    {
     "name": "stdout",
     "output_type": "stream",
     "text": [
      "enter bigger number: 12\n",
      "enter smaller number: 30\n",
      "6\n"
     ]
    }
   ],
   "source": [
    "a= int(input(\"enter bigger number: \"))\n",
    "b= int(input(\"enter smaller number: \"))\n",
    "\n",
    "def hcf(a,b):\n",
    "    if a > b:\n",
    "        mini = b \n",
    "    else:\n",
    "        mini = a\n",
    "    \n",
    "    for i in range(1,mini+1):\n",
    "        if((a % i ==0) and (b % i == 0)):\n",
    "            hcf = i\n",
    "    return hcf\n",
    "print(hcf(a,b))\n"
   ]
  },
  {
   "cell_type": "markdown",
   "metadata": {},
   "source": [
    "3.\tWrite a Python Program to Convert Decimal to Binary, Octal and Hexadecimal"
   ]
  },
  {
   "cell_type": "code",
   "execution_count": 8,
   "metadata": {},
   "outputs": [
    {
     "name": "stdout",
     "output_type": "stream",
     "text": [
      "enter number: 34\n",
      "Binary value of num: 0b100010\n",
      "Octal value of num: 0o42\n",
      "Hexadecimal value of num: 0x22\n"
     ]
    }
   ],
   "source": [
    "num = int(input(\"enter number: \"))\n",
    "\n",
    "print(\"Binary value of num:\", bin(num))\n",
    "print(\"Octal value of num:\", oct(num))\n",
    "print(\"Hexadecimal value of num:\", hex(num))"
   ]
  },
  {
   "cell_type": "markdown",
   "metadata": {},
   "source": [
    "4.\tWrite a Python Program To Find ASCII value of a character"
   ]
  },
  {
   "cell_type": "code",
   "execution_count": 17,
   "metadata": {},
   "outputs": [
    {
     "name": "stdout",
     "output_type": "stream",
     "text": [
      "enter character3\n",
      "ascii value of entered character is: 51\n"
     ]
    }
   ],
   "source": [
    "char = input(\"enter character\")\n",
    "\n",
    "print(\"ascii value of entered character is:\",ord(char))"
   ]
  },
  {
   "cell_type": "markdown",
   "metadata": {},
   "source": [
    "5.\tWrite a Python Program to Make a Simple Calculator with 4 basic mathematical operations"
   ]
  },
  {
   "cell_type": "code",
   "execution_count": 20,
   "metadata": {},
   "outputs": [
    {
     "name": "stdout",
     "output_type": "stream",
     "text": [
      "enter operand 1:8\n",
      "Enter operation(+ - / *)+\n",
      "enter operand 2:9\n",
      "sum is: 17\n"
     ]
    }
   ],
   "source": [
    "num1 = int(input(\"enter operand 1:\"))\n",
    "operation = (input(\"Enter operation(+ - / *)\"))\n",
    "num2 = int(input(\"enter operand 2:\"))\n",
    "\n",
    "if(operation == \"+\"):\n",
    "    print(\"sum is:\",num1+num2)\n",
    "elif(operation == \"-\"):\n",
    "    print(\"subtraction result is:\",num1-num2)\n",
    "elif(operation == \"/\"):\n",
    "    print(\"division result is:\",num1/num2)\n",
    "elif(operation == \"*\"):\n",
    "    print(\"product is:\",num1*num2)\n",
    "else:\n",
    "    print(\"invalid\")"
   ]
  }
 ],
 "metadata": {
  "kernelspec": {
   "display_name": "Python 3",
   "language": "python",
   "name": "python3"
  },
  "language_info": {
   "codemirror_mode": {
    "name": "ipython",
    "version": 3
   },
   "file_extension": ".py",
   "mimetype": "text/x-python",
   "name": "python",
   "nbconvert_exporter": "python",
   "pygments_lexer": "ipython3",
   "version": "3.7.4"
  }
 },
 "nbformat": 4,
 "nbformat_minor": 2
}
