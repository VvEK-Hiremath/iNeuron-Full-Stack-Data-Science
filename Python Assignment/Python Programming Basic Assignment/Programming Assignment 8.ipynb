{
 "cells": [
  {
   "cell_type": "markdown",
   "metadata": {},
   "source": [
    "Write a Python Program to Add Two Matrices?"
   ]
  },
  {
   "cell_type": "code",
   "execution_count": 1,
   "metadata": {},
   "outputs": [
    {
     "name": "stdout",
     "output_type": "stream",
     "text": [
      "enter no. of rows:2\n",
      "enter no. of columns:3\n",
      "enter 0 row 0 column element:1\n",
      "enter 0 row 1 column element:2\n",
      "enter 0 row 2 column element:3\n",
      "enter 1 row 0 column element:1\n",
      "enter 1 row 1 column element:2\n",
      "enter 1 row 2 column element:3\n",
      "enter no. of rows:2\n",
      "enter no. of columns:3\n",
      "enter 0 row 0 column element:4\n",
      "enter 0 row 1 column element:5\n",
      "enter 0 row 2 column element:6\n",
      "enter 1 row 0 column element:4\n",
      "enter 1 row 1 column element:5\n",
      "enter 1 row 2 column element:6\n",
      "[5, 7, 9]\n",
      "[5, 7, 9]\n"
     ]
    }
   ],
   "source": [
    "def make_matrix():\n",
    "    r = int(input(\"enter no. of rows:\"))\n",
    "    c = int(input(\"enter no. of columns:\"))\n",
    "    \n",
    "    mat = []\n",
    "    for i in range(r):\n",
    "        k = []\n",
    "        for j in range(c):\n",
    "            v = int(input(\"enter %i row %i column element:\"%(i,j)))\n",
    "            k.append(v)\n",
    "        mat.append(k)\n",
    "    return mat\n",
    "\n",
    "def sum_mat(X,Y):\n",
    "    result = [[X[i][j] + Y[i][j]  for j in range(len(X[0]))] for i in range(len(X))]\n",
    "  \n",
    "    for r in result:\n",
    "        print(r)\n",
    "\n",
    "a = make_matrix()\n",
    "b = make_matrix()\n",
    "\n",
    "sum_mat(a,b)"
   ]
  },
  {
   "cell_type": "markdown",
   "metadata": {},
   "source": [
    "Write a Python Program to Multiply Two Matrices?"
   ]
  },
  {
   "cell_type": "code",
   "execution_count": 6,
   "metadata": {},
   "outputs": [
    {
     "name": "stdout",
     "output_type": "stream",
     "text": [
      "[114, 160, 60, 27]\n",
      "[74, 97, 73, 14]\n",
      "[119, 157, 112, 23]\n"
     ]
    }
   ],
   "source": [
    "def multi_mat(a,b):\n",
    "    if (len(a[0])==len(b)):\n",
    "        for i in range(len(a)):\n",
    "            for j in range(len(b[0])):\n",
    "                for k in range(len(b)):\n",
    "                    result[i][j] += a[i][k] * b[k][j]\n",
    "  \n",
    "        for r in result:\n",
    "            print(r)\n",
    "    else:\n",
    "        print(\"multiplication not possible\")\n",
    "\n",
    "                \n",
    "A = [[12, 7, 3],\n",
    "    [4, 5, 6],\n",
    "    [7, 8, 9]]\n",
    "      \n",
    "B = [[5, 8, 1, 2],\n",
    "    [6, 7, 3, 0],\n",
    "    [4, 5, 9, 1]]\n",
    "      \n",
    "result = [[0, 0, 0, 0],\n",
    "        [0, 0, 0, 0],\n",
    "        [0, 0, 0, 0]]\n",
    "\n",
    "multi_mat(A,B)"
   ]
  },
  {
   "cell_type": "markdown",
   "metadata": {},
   "source": [
    "Write a Python Program to Transpose a Matrix?"
   ]
  },
  {
   "cell_type": "code",
   "execution_count": 2,
   "metadata": {},
   "outputs": [
    {
     "data": {
      "text/plain": [
       "[[1, 4, 7], [2, 5, 8], [3, 6, 9]]"
      ]
     },
     "execution_count": 2,
     "metadata": {},
     "output_type": "execute_result"
    }
   ],
   "source": [
    "a = [[1,2,3],\n",
    "    [4,5,6],\n",
    "    [7,8,9]]\n",
    "\n",
    "a_transpose = [[a[j][i] for j in range(len(a))] for i in range(len(a[0]))]\n",
    "print(a_transpose)"
   ]
  },
  {
   "cell_type": "markdown",
   "metadata": {},
   "source": [
    "Write a Python Program to Sort Words in Alphabetic Order?"
   ]
  },
  {
   "cell_type": "code",
   "execution_count": 4,
   "metadata": {},
   "outputs": [
    {
     "name": "stdout",
     "output_type": "stream",
     "text": [
      "a check is sentence test this to\n"
     ]
    }
   ],
   "source": [
    "def sortedSentence(Sentence):\n",
    "    words = Sentence.split(\" \")\n",
    "    words.sort()\n",
    "    newSentence = \" \".join(words)\n",
    "    return newSentence\n",
    "s = \"this is a test sentence to check\"\n",
    "print(sortedSentence(s))"
   ]
  },
  {
   "cell_type": "markdown",
   "metadata": {},
   "source": [
    "Write a Python Program to Remove Punctuation From a String?"
   ]
  },
  {
   "cell_type": "code",
   "execution_count": 8,
   "metadata": {},
   "outputs": [
    {
     "name": "stdout",
     "output_type": "stream",
     "text": [
      "this is a @test sentence to #check!!\n",
      "this is a test sentence to check\n"
     ]
    }
   ],
   "source": [
    "punc = '''!()-[]{};:'\"\\,<>./?@#$%^&*_~'''\n",
    "a = \"this is a @test sentence to #check!!\"\n",
    "print(a)\n",
    "for ele in a:\n",
    "    if ele in punc:\n",
    "        a = a.replace(ele, \"\")\n",
    "print(a)"
   ]
  }
 ],
 "metadata": {
  "kernelspec": {
   "display_name": "Python 3",
   "language": "python",
   "name": "python3"
  },
  "language_info": {
   "codemirror_mode": {
    "name": "ipython",
    "version": 3
   },
   "file_extension": ".py",
   "mimetype": "text/x-python",
   "name": "python",
   "nbconvert_exporter": "python",
   "pygments_lexer": "ipython3",
   "version": "3.7.4"
  }
 },
 "nbformat": 4,
 "nbformat_minor": 2
}
