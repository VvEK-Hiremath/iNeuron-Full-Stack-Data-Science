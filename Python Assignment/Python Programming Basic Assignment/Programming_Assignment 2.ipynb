{
 "cells": [
  {
   "cell_type": "markdown",
   "metadata": {},
   "source": [
    "1.\tWrite a Python program to convert kilometers to miles"
   ]
  },
  {
   "cell_type": "code",
   "execution_count": 1,
   "metadata": {},
   "outputs": [
    {
     "name": "stdout",
     "output_type": "stream",
     "text": [
      "enter km (nearest integer):4\n",
      "4 km in miles is:6.436000\n"
     ]
    }
   ],
   "source": [
    "km = int(input(\"enter km (nearest integer):\"))\n",
    "miles = km * 1.609\n",
    "print (\"%i km in miles is:%f\"%(km,miles))"
   ]
  },
  {
   "cell_type": "markdown",
   "metadata": {},
   "source": [
    "2.\tWrite a Python program to convert Celsius to Fahrenheit"
   ]
  },
  {
   "cell_type": "code",
   "execution_count": 3,
   "metadata": {},
   "outputs": [
    {
     "name": "stdout",
     "output_type": "stream",
     "text": [
      "enter temperature in celsius:(upto one decimal space):23.2\n",
      "23.200000 celsius in fahrenheit is:73.760000\n"
     ]
    }
   ],
   "source": [
    "celsius = float(input(\"enter temperature in celsius:(upto one decimal space):\"))\n",
    "fahrenheit = (celsius * (9/5))+32\n",
    "print(\"%f celsius in fahrenheit is:%f\"%(celsius,fahrenheit))"
   ]
  },
  {
   "cell_type": "markdown",
   "metadata": {},
   "source": [
    "3.\tWrite a Python program to display calendar"
   ]
  },
  {
   "cell_type": "code",
   "execution_count": 11,
   "metadata": {},
   "outputs": [
    {
     "name": "stdout",
     "output_type": "stream",
     "text": [
      "      May 2021\n",
      "Mo Tu We Th Fr Sa Su\n",
      "                1  2\n",
      " 3  4  5  6  7  8  9\n",
      "10 11 12 13 14 15 16\n",
      "17 18 19 20 21 22 23\n",
      "24 25 26 27 28 29 30\n",
      "31\n",
      "\n"
     ]
    }
   ],
   "source": [
    "import calendar\n",
    "print(calendar.month(2021,5))"
   ]
  },
  {
   "cell_type": "markdown",
   "metadata": {},
   "source": [
    "4.\tWrite a Python program to solve quadratic equation"
   ]
  },
  {
   "cell_type": "code",
   "execution_count": 15,
   "metadata": {},
   "outputs": [
    {
     "name": "stdout",
     "output_type": "stream",
     "text": [
      "enter coefficient of 2 degree:(upto single decimal place)4\n",
      "enter coefficient of 1 degree:(upto single decimal place)3\n",
      "enter constant:(upto single decimal place)-2\n",
      "roots are: 0.42539052967910607 -1.175390529679106\n"
     ]
    }
   ],
   "source": [
    "import math as m\n",
    "a=float(input(\"enter coefficient of 2 degree:(upto single decimal place)\"))\n",
    "b=float(input(\"enter coefficient of 1 degree:(upto single decimal place)\"))\n",
    "c=float(input(\"enter constant:(upto single decimal place)\"))\n",
    "\n",
    "if ((b*b)-(4*a*c) >= 0):\n",
    "    x1 = (-b + m.sqrt((b*b)-(4*a*c)))/(2*a)\n",
    "    x2 = (-b - m.sqrt((b*b)-(4*a*c)))/(2*a)\n",
    "    print(\"roots are:\", x1, x2)\n",
    "else:\n",
    "    print(\"real root doesnot exist\")\n"
   ]
  },
  {
   "cell_type": "markdown",
   "metadata": {},
   "source": [
    "5.\tWrite a Python program to swap two variables without temp variable"
   ]
  },
  {
   "cell_type": "code",
   "execution_count": 17,
   "metadata": {},
   "outputs": [
    {
     "name": "stdout",
     "output_type": "stream",
     "text": [
      "before swapping: a = 3 b= 2\n",
      "after swapping: a = 2 b= 3\n"
     ]
    }
   ],
   "source": [
    "a=3\n",
    "b=2\n",
    "print (\"before swapping: a = %i b= %i\"%(a,b))\n",
    "a = a+b\n",
    "b = a-b\n",
    "a = a-b\n",
    "print (\"after swapping: a = %i b= %i\"%(a,b))"
   ]
  }
 ],
 "metadata": {
  "kernelspec": {
   "display_name": "Python 3",
   "language": "python",
   "name": "python3"
  },
  "language_info": {
   "codemirror_mode": {
    "name": "ipython",
    "version": 3
   },
   "file_extension": ".py",
   "mimetype": "text/x-python",
   "name": "python",
   "nbconvert_exporter": "python",
   "pygments_lexer": "ipython3",
   "version": "3.7.4"
  }
 },
 "nbformat": 4,
 "nbformat_minor": 2
}
