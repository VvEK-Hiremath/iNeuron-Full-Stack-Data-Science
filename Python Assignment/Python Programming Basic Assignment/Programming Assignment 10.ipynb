{
 "cells": [
  {
   "cell_type": "markdown",
   "metadata": {},
   "source": [
    "Write a Python program to find sum of elements in list?"
   ]
  },
  {
   "cell_type": "code",
   "execution_count": 7,
   "metadata": {},
   "outputs": [
    {
     "data": {
      "text/plain": [
       "15"
      ]
     },
     "execution_count": 7,
     "metadata": {},
     "output_type": "execute_result"
    }
   ],
   "source": [
    "a =[1,2,3,4,5]\n",
    "def sum_list(a):\n",
    "    s = 0\n",
    "    for i in range(len(a)):\n",
    "        s += a[i]\n",
    "    return s\n",
    "sum_list(a)\n",
    "    "
   ]
  },
  {
   "cell_type": "markdown",
   "metadata": {},
   "source": [
    "Write a Python program to  Multiply all numbers in the list?"
   ]
  },
  {
   "cell_type": "code",
   "execution_count": 8,
   "metadata": {},
   "outputs": [
    {
     "data": {
      "text/plain": [
       "120"
      ]
     },
     "execution_count": 8,
     "metadata": {},
     "output_type": "execute_result"
    }
   ],
   "source": [
    "def multiply_list(a):\n",
    "    m = 1\n",
    "    for i in range(len(a)):\n",
    "        m *= a[i]\n",
    "    return m\n",
    "multiply_list(a)\n",
    "    "
   ]
  },
  {
   "cell_type": "markdown",
   "metadata": {},
   "source": [
    "Write a Python program to find smallest number in a list?"
   ]
  },
  {
   "cell_type": "code",
   "execution_count": 10,
   "metadata": {},
   "outputs": [
    {
     "data": {
      "text/plain": [
       "-3"
      ]
     },
     "execution_count": 10,
     "metadata": {},
     "output_type": "execute_result"
    }
   ],
   "source": [
    "def smallest(a):\n",
    "    small = 0\n",
    "    for i in range(len(a)):\n",
    "        if(small <= a[i]):\n",
    "            continue\n",
    "        else:\n",
    "            small = a[i]\n",
    "    return small\n",
    "listt = [23,4,234,1,-3,6]\n",
    "smallest(listt)"
   ]
  },
  {
   "cell_type": "markdown",
   "metadata": {},
   "source": [
    "Write a Python program to find largest number in a list?"
   ]
  },
  {
   "cell_type": "code",
   "execution_count": 14,
   "metadata": {},
   "outputs": [
    {
     "data": {
      "text/plain": [
       "234"
      ]
     },
     "execution_count": 14,
     "metadata": {},
     "output_type": "execute_result"
    }
   ],
   "source": [
    "def largest(a):\n",
    "    large = 0\n",
    "    for i in range(len(a)):\n",
    "        if(large >= a[i]):\n",
    "            continue\n",
    "        else:\n",
    "            large = a[i]\n",
    "    return large\n",
    "listt = [23,4,234,1,-3,6]\n",
    "largest(listt)"
   ]
  },
  {
   "cell_type": "markdown",
   "metadata": {},
   "source": [
    "Write a Python program to find second largest number in a list?"
   ]
  },
  {
   "cell_type": "code",
   "execution_count": 9,
   "metadata": {},
   "outputs": [
    {
     "name": "stdout",
     "output_type": "stream",
     "text": [
      "23\n"
     ]
    }
   ],
   "source": [
    "a = [1,23,4,2,223,7]\n",
    "def second_largest(a):\n",
    "    a.sort()\n",
    "    return a[-2]\n",
    "\n",
    "print(second_largest(a))"
   ]
  },
  {
   "cell_type": "markdown",
   "metadata": {},
   "source": [
    "Write a Python program to find N largest elements from a list?"
   ]
  },
  {
   "cell_type": "code",
   "execution_count": 17,
   "metadata": {},
   "outputs": [
    {
     "name": "stdout",
     "output_type": "stream",
     "text": [
      "enter length of list4\n",
      "enter 0th no.11\n",
      "enter 1th no.2\n",
      "enter 2th no.3\n",
      "enter 3th no.1\n",
      "enter n in nth largest number:3\n",
      "a: [11, 2, 3, 1]\n",
      "3th largest element is 2\n"
     ]
    }
   ],
   "source": [
    "length = int(input(\"enter length of list\"))\n",
    "a = list()\n",
    "for i in range(length):\n",
    "    b = int(input(\"enter %ith no.\"%i))\n",
    "    a.append(b)\n",
    "\n",
    "r = int(input(\"enter n in nth largest number:\"))\n",
    "def nth_largest(listt, n):\n",
    "    listt.sort()\n",
    "    return listt[-n]\n",
    "print(\"a:\",a)\n",
    "print(\"%ith largest element is %i\"%(r,nth_largest(a,r)) )  "
   ]
  },
  {
   "cell_type": "markdown",
   "metadata": {},
   "source": [
    "Write a Python program to print even numbers in a list?"
   ]
  },
  {
   "cell_type": "code",
   "execution_count": 31,
   "metadata": {},
   "outputs": [
    {
     "name": "stdout",
     "output_type": "stream",
     "text": [
      "list a: [14, 12, 11, 12, 2, 15, 18, 14, 16]\n",
      "14\n",
      "12\n",
      "12\n",
      "2\n",
      "18\n",
      "14\n",
      "16\n"
     ]
    }
   ],
   "source": [
    "import random\n",
    "a = list()\n",
    "for i in range(random.randint(3,11)):\n",
    "    a.append(random.randint(1,20))\n",
    "\n",
    "print(\"list a:\",a)    \n",
    "def even_list(a):\n",
    "    for i in range(len(a)):\n",
    "        if(a[i]%2 == 0):\n",
    "            print(a[i])\n",
    "        else:\n",
    "            continue\n",
    "\n",
    "even_list(a)"
   ]
  },
  {
   "cell_type": "markdown",
   "metadata": {},
   "source": [
    "Write a Python program to print odd numbers in a List?"
   ]
  },
  {
   "cell_type": "code",
   "execution_count": 33,
   "metadata": {},
   "outputs": [
    {
     "name": "stdout",
     "output_type": "stream",
     "text": [
      "[14, 12, 11, 12, 2, 15, 18, 14, 16]\n",
      "11\n",
      "15\n"
     ]
    }
   ],
   "source": [
    "def odd_list(a):\n",
    "    for i in range(len(a)):\n",
    "        if(a[i]%2 !=0):\n",
    "            print(a[i])\n",
    "        else:\n",
    "            continue\n",
    "print(a)\n",
    "odd_list(a)"
   ]
  },
  {
   "cell_type": "markdown",
   "metadata": {},
   "source": [
    "Write a Python program to Remove empty List from List?"
   ]
  },
  {
   "cell_type": "code",
   "execution_count": 48,
   "metadata": {},
   "outputs": [
    {
     "name": "stdout",
     "output_type": "stream",
     "text": [
      "listt before removing empty list: [[1, 2], [1, 2, 3], [], ['a'], []]\n",
      "listt before removing empty list: [[1, 2], [1, 2, 3], ['a']]\n"
     ]
    }
   ],
   "source": [
    "listt = [[1,2],[1,2,3],[],[\"a\"],[]]\n",
    "print(\"listt before removing empty list:\", listt)\n",
    "\n",
    "listt = [i for i in listt if i!= []]\n",
    "print(\"listt before removing empty list:\", listt)"
   ]
  },
  {
   "cell_type": "markdown",
   "metadata": {},
   "source": [
    "Write a Python program to Cloning or Copying a list?"
   ]
  },
  {
   "cell_type": "code",
   "execution_count": 50,
   "metadata": {},
   "outputs": [
    {
     "name": "stdout",
     "output_type": "stream",
     "text": [
      "[1, 2, 3, 4, 5]\n"
     ]
    }
   ],
   "source": [
    "a =[1,2,3,4,5]\n",
    "\n",
    "b = list()\n",
    "b = a\n",
    "print(b)"
   ]
  },
  {
   "cell_type": "markdown",
   "metadata": {},
   "source": [
    "Write a Python program to Count occurrences of an element in a list?"
   ]
  },
  {
   "cell_type": "code",
   "execution_count": 53,
   "metadata": {},
   "outputs": [
    {
     "name": "stdout",
     "output_type": "stream",
     "text": [
      "3\n"
     ]
    }
   ],
   "source": [
    "a = [2,2,3,4,3,1,2,1,3,5,4]\n",
    "def ele_occur(a,element):\n",
    "    count =0 \n",
    "    for i in a:\n",
    "        if (i== element):\n",
    "            count +=1\n",
    "    return count\n",
    "print(ele_occur(a,2))"
   ]
  }
 ],
 "metadata": {
  "kernelspec": {
   "display_name": "Python 3",
   "language": "python",
   "name": "python3"
  },
  "language_info": {
   "codemirror_mode": {
    "name": "ipython",
    "version": 3
   },
   "file_extension": ".py",
   "mimetype": "text/x-python",
   "name": "python",
   "nbconvert_exporter": "python",
   "pygments_lexer": "ipython3",
   "version": "3.7.4"
  }
 },
 "nbformat": 4,
 "nbformat_minor": 2
}
